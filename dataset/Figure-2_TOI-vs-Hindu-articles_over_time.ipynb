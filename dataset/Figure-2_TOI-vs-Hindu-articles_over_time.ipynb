{
 "cells": [
  {
   "cell_type": "code",
   "execution_count": 1,
   "metadata": {
    "hideCode": false,
    "hidePrompt": false
   },
   "outputs": [],
   "source": [
    "import matplotlib.pyplot as plt\n",
    "import seaborn as sns\n",
    "import pandas as pd\n",
    "from pandas import json_normalize\n",
    "import pickle\n",
    "import math\n",
    "from math import sqrt\n",
    "import numpy as np\n",
    "import os\n",
    "from datetime import datetime, timedelta\n",
    "import re\n",
    "from wordcloud import WordCloud, STOPWORDS\n",
    "import matplotlib.dates as mdates\n",
    "from matplotlib.dates import DateFormatter\n",
    "from collections import Counter\n",
    "import warnings\n",
    "warnings.filterwarnings('ignore')\n",
    "\n",
    "%matplotlib inline  \n",
    "\n",
    "\n",
    "pd.set_option('max_colwidth', 200)\n",
    "%config Completer.use_jedi = False\n",
    "\n",
    "\n"
   ]
  },
  {
   "cell_type": "code",
   "execution_count": 2,
   "metadata": {},
   "outputs": [],
   "source": [
    "def latexify(fig_width=None, fig_height=None, columns=2):\n",
    "    \"\"\"Set up matplotlib's RC params for LaTeX plotting.\n",
    "    Call this before plotting a figure.\n",
    "\n",
    "    Parameters\n",
    "    ----------\n",
    "    fig_width : float, optional, inches\n",
    "    fig_height : float,  optional, inches\n",
    "    columns : {1, 2}\n",
    "    \"\"\"\n",
    "\n",
    "    # code adapted from http://www.scipy.org/Cookbook/Matplotlib/LaTeX_Examples\n",
    "\n",
    "    # Width and max height in inches for IEEE journals taken from\n",
    "    # computer.org/cms/Computer.org/Journal%20templates/transactions_art_guide.pdf\n",
    "\n",
    "    assert(columns in [1,2])\n",
    "\n",
    "    if fig_width is None:\n",
    "        fig_width = 3.32 if columns==1 else 6.75 # width in inches\n",
    "\n",
    "    if fig_height is None:\n",
    "        golden_mean = (sqrt(5)-1.0)/2.0    # Aesthetic ratio\n",
    "        fig_height = fig_width*golden_mean # height in inches\n",
    "\n",
    "    MAX_HEIGHT_INCHES = 8.0\n",
    "    if fig_height > MAX_HEIGHT_INCHES:\n",
    "        print(\"WARNING: fig_height too large:\" + fig_height + \n",
    "              \"so will reduce to\" + MAX_HEIGHT_INCHES + \"inches.\")\n",
    "        fig_height = MAX_HEIGHT_INCHES\n",
    "\n",
    "    params = {'backend': 'ps',\n",
    "              'text.latex.preamble': [r'\\usepackage{gensymb}'],\n",
    "              'axes.labelsize': 8, # fontsize for x and y labels (was 10)\n",
    "              'axes.titlesize': 8,\n",
    "              'font.size': 8, # was 10\n",
    "              'legend.fontsize': 8, # was 10\n",
    "              'xtick.labelsize': 8,\n",
    "              'ytick.labelsize': 8,\n",
    "              'text.usetex': True,\n",
    "              'figure.figsize': [fig_width,fig_height],\n",
    "              'font.family': 'serif'\n",
    "    }\n",
    "\n",
    "    matplotlib.rcParams.update(params)\n",
    "\n",
    "\n",
    "def format_axes(ax,twinx=False,SPINE_COLOR=\"gray\"):\n",
    "    \n",
    "    if twinx:\n",
    "        for spine in ['top']:\n",
    "            ax.spines[spine].set_visible(False)\n",
    "\n",
    "        for spine in ['left', 'bottom', 'right']:\n",
    "            ax.spines[spine].set_color(SPINE_COLOR)\n",
    "            ax.spines[spine].set_linewidth(0.5)\n",
    "        \n",
    "    else:\n",
    "        for spine in ['top', 'right']:\n",
    "            ax.spines[spine].set_visible(False)\n",
    "\n",
    "        for spine in ['left', 'bottom']:\n",
    "            ax.spines[spine].set_color(SPINE_COLOR)\n",
    "            ax.spines[spine].set_linewidth(0.5)\n",
    "\n",
    "    ax.xaxis.set_ticks_position('bottom')\n",
    "    ax.yaxis.set_ticks_position('left')\n",
    "\n",
    "    for axis in [ax.xaxis, ax.yaxis]:\n",
    "        axis.set_tick_params(direction='out', color=SPINE_COLOR)\n",
    "\n",
    "    return ax"
   ]
  },
  {
   "cell_type": "markdown",
   "metadata": {
    "hideCode": false,
    "hideOutput": true,
    "hidePrompt": false
   },
   "source": [
    "## Hindu & TOI, 2010-2020"
   ]
  },
  {
   "cell_type": "code",
   "execution_count": 3,
   "metadata": {
    "hideCode": false,
    "hidePrompt": false,
    "scrolled": true
   },
   "outputs": [],
   "source": [
    "article_df = pd.read_csv(\"../dataset/News_articles_dataset/News_articles_dataset.csv.gz\")\n",
    "article_df[\"date\"] = pd.to_datetime(article_df[\"date\"])"
   ]
  },
  {
   "cell_type": "markdown",
   "metadata": {},
   "source": [
    "## TOI vs Hindu"
   ]
  },
  {
   "cell_type": "code",
   "execution_count": 4,
   "metadata": {},
   "outputs": [],
   "source": [
    "def add_month_year_column(which_df):\n",
    "    #make month column from date\n",
    "    which_df[\"month\"] = which_df.apply(lambda x:f'{x[\"date\"].year}-{x[\"date\"].month}',axis=1)\n",
    "\n",
    "    #make year column from date\n",
    "    which_df[\"year\"] = which_df.apply(lambda x:f'{x[\"date\"].year}',axis=1)\n",
    "    \n",
    "    return which_df\n",
    "\n",
    "\n",
    "def get_article_count_df(article_df, start_date = datetime(2010,1,1).date(), end_date = datetime(2021,5,30).date()):\n",
    "    '''\n",
    "    count articles per day by applying group by date\n",
    "    returns dataframe\n",
    "    '''\n",
    "    \n",
    "    article_count = article_df.groupby(by=\"date\")[\"heading\"].count()\n",
    "    \n",
    "    #range of all date\n",
    "    date_idx = pd.date_range(start_date, end_date)\n",
    "    \n",
    "    #get articles from specific range    \n",
    "    article_count = article_count[start_date:end_date]\n",
    "\n",
    "    #fill missing dates\n",
    "    article_count = article_count.reindex(date_idx,fill_value=0)\n",
    "\n",
    "    article_count =  article_count.reset_index()\n",
    "    article_count.columns = [\"date\",\"count\"]\n",
    "    \n",
    "    #add month & year columns\n",
    "    article_count = add_month_year_column(article_count)\n",
    "    return article_count"
   ]
  },
  {
   "cell_type": "code",
   "execution_count": 5,
   "metadata": {},
   "outputs": [
    {
     "name": "stdout",
     "output_type": "stream",
     "text": [
      "5628\n",
      "11746\n"
     ]
    }
   ],
   "source": [
    "df = article_df.copy()\n",
    "hindu = df[df[\"media\"] == \"Hindu\"]\n",
    "print(len(hindu))\n",
    "toi = df[df[\"media\"] == \"TOI\"]\n",
    "print(len(toi))\n",
    "hindu_count =  get_article_count_df(hindu)\n",
    "toi_count =  get_article_count_df(toi)\n",
    "\n",
    "hindu_count = hindu_count.resample(\"7D\",on=\"date\").sum().reset_index()\n",
    "toi_count = toi_count.resample(\"7D\",on=\"date\").sum().reset_index()"
   ]
  },
  {
   "cell_type": "code",
   "execution_count": null,
   "metadata": {},
   "outputs": [],
   "source": [
    "from matplotlib.dates import DateFormatter\n",
    "import matplotlib.dates as mdates\n",
    "import matplotlib\n",
    "\n",
    "latexify(fig_height=1.8,fig_width=4.5)\n",
    "fig,ax = plt.subplots()\n",
    "\n",
    "\n",
    "plt1 = ax.plot(toi_count[\"date\"],toi_count[\"count\"],linestyle=\"dashed\",label=\"TOI\",linewidth=1,color=\"tab:red\")\n",
    "plt2 = ax.plot(hindu_count[\"date\"],hindu_count[\"count\"],label=\"The Hindu\",linewidth=1,color=\"tab:green\")\n",
    "\n",
    "ax.set(ylabel=\"Weekly AQ Articles\", xlabel=\"Week\")\n",
    "format_axes(ax)\n",
    "ax.legend(bbox_to_anchor=(1.02,0.9));\n",
    "\n",
    "#set which month to show\n",
    "ax.set_xlim(datetime(2009,11,1), datetime(2021,11,1))\n",
    "\n",
    "#set format of date\n",
    "date_form = DateFormatter(\"%b'%y\")\n",
    "#ax = fig.axes[0]\n",
    "ax.xaxis.set_major_formatter(date_form)\n",
    "\n",
    "#make interval of n months\n",
    "ax.xaxis.set_major_locator(mdates.MonthLocator(interval=24))\n",
    "ax.tick_params(axis=\"x\",rotation=0)\n",
    "#fig.savefig(\"plots/latex/toi_vs_hindu_articles.pdf\",bbox_inches=\"tight\")\n"
   ]
  },
  {
   "cell_type": "code",
   "execution_count": 7,
   "metadata": {},
   "outputs": [],
   "source": [
    "fig.savefig(\"../figures/fig2_weekly_AQ_articles_toi_hindu.pdf\",bbox_inches=\"tight\")"
   ]
  },
  {
   "cell_type": "code",
   "execution_count": null,
   "metadata": {},
   "outputs": [],
   "source": []
  }
 ],
 "metadata": {
  "hide_code_all_hidden": false,
  "kernelspec": {
   "display_name": "Python 3",
   "language": "python",
   "name": "python3"
  },
  "language_info": {
   "codemirror_mode": {
    "name": "ipython",
    "version": 3
   },
   "file_extension": ".py",
   "mimetype": "text/x-python",
   "name": "python",
   "nbconvert_exporter": "python",
   "pygments_lexer": "ipython3",
   "version": "3.8.8"
  }
 },
 "nbformat": 4,
 "nbformat_minor": 4
}
